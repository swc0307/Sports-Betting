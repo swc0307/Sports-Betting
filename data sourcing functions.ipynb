{
 "cells": [
  {
   "cell_type": "code",
   "execution_count": 472,
   "metadata": {
    "scrolled": true
   },
   "outputs": [],
   "source": [
    "import pandas as pd\n",
    "import numpy as np\n",
    "import tabula\n",
    "import os"
   ]
  },
  {
   "cell_type": "code",
   "execution_count": 481,
   "metadata": {
    "scrolled": true
   },
   "outputs": [],
   "source": [
    "FOLDER = os.path.join(r'C:\\\\',\"Users\",\"ChunSangWoo\",\"Documents\",\"New Jersey\",\"Monthly Data\")\n",
    "FILE_NAME_CONFIG = {\n",
    "    'Sports Wagering Handle':{\n",
    "        'pages':'6',\n",
    "        'table_rows':3,\n",
    "        'table_index':1,\n",
    "        'cols_to_drop':[2],\n",
    "        'do_cleaning': True,  #True for SB Handle; False for SB Revenue\n",
    "        'null_col': False,\n",
    "        'concat': False,\n",
    "\n",
    "    },\n",
    "    'Sports Wagering Revenue':{\n",
    "        'pages':'2',\n",
    "        'table_rows':8,\n",
    "        'table_index':0,\n",
    "        'cols_to_drop':[1,3,4,5,6],\n",
    "        'do_cleaning' : False,\n",
    "        'null_col': True,  #True for SB Revenue; False for SB Handle\n",
    "        'concat': False,\n",
    "\n",
    "    },\n",
    "    'Monthly SB Figures':{\n",
    "        'pages':[],\n",
    "        'table_rows':[],\n",
    "        'table_index':[],\n",
    "        'cols_to_drop':[],\n",
    "        'do_cleaning' : False,\n",
    "        'null_col': False,  #True for SB Revenue; False for SB Handle\n",
    "        'concat': True,\n",
    "    }\n",
    "}\n",
    "\n",
    "def load_raw_dfs(filename, pages, folder=FOLDER):\n",
    "    print(locals())\n",
    "    path = os.path.join(folder, filename)\n",
    "    #path = r'C:\\Users\\ChunSangWoo\\Documents\\New Jersey/November2019.pdf'\n",
    "    \n",
    "    #dfs = tabula.read_pdf(path, pages=pages, multiple_tables=True, stream=True)\n",
    "    dfs = tabula.read_pdf(path, pages=pages, multiple_tables=True, stream=True, guess=True)\n",
    "\n",
    "    return dfs"
   ]
  },
  {
   "cell_type": "code",
   "execution_count": 482,
   "metadata": {
    "scrolled": true
   },
   "outputs": [],
   "source": [
    "def load_clean_df(dataset_name, filename, folder=FOLDER):\n",
    "    raw_dfs = load_raw_dfs(filename, pages=FILE_NAME_CONFIG[dataset_name]['pages']) #list of multiple dataframes\n",
    "    raw_df = raw_dfs[FILE_NAME_CONFIG[dataset_name]['table_index']]\n",
    "    df=raw_df\n",
    "    \n",
    "    if FILE_NAME_CONFIG[dataset_name]['do_cleaning']:\n",
    "        #df.drop(df.columns[FILE_NAME_CONFIG[dataset_name]['cols_to_drop']], axis=1, inplace=True)\n",
    "        \n",
    "        df.columns = ['','Monthly Handle','']\n",
    "        df=df[1:FILE_NAME_CONFIG[dataset_name]['table_rows']+1]\n",
    "        df.set_index(df.columns[0], inplace=True)\n",
    "        df.columns = [filename]\n",
    "        df = df.transpose()\n",
    "        df.columns = ['Retail Handle','Digital Handle','Total Handle']\n",
    "\n",
    "        for col_name in df.columns:\n",
    "            df[col_name]=df[col_name].str.replace(',','').astype(float)\n",
    "            \n",
    "    if FILE_NAME_CONFIG[dataset_name]['null_col']:\n",
    "        \n",
    "        df.drop(df.columns[[1,3,4,5,6]], axis=1, inplace=True)  #HOW DO I USE CONFIG: 'cols_to_drop' INSTEAD OF TYPING OUT THE COLUMNS TO DROP?\n",
    "        df.columns = df.iloc[0]\n",
    "        df = df[8:9]\n",
    "        df.columns = ['','Total Revenue']\n",
    "\n",
    "        df.set_index(df.columns[0], inplace=True)\n",
    "        df.columns = [filename]\n",
    "        df = df.transpose()\n",
    "\n",
    "        for col_name in df.columns:\n",
    "            df[col_name]=df[col_name].str.replace(',','').astype(float)\n",
    "\n",
    "    return(df)\n",
    "\n",
    "def monthly_df(dataset_name, filename, folder=FOLDER):\n",
    "    monthly_df = pd.concat([df1, df2], axis=1)\n",
    "    \n",
    "    return(monthly_df)"
   ]
  },
  {
   "cell_type": "code",
   "execution_count": 483,
   "metadata": {},
   "outputs": [
    {
     "name": "stdout",
     "output_type": "stream",
     "text": [
      "{'folder': 'C:\\\\\\\\Users\\\\ChunSangWoo\\\\Documents\\\\New Jersey\\\\Monthly Data', 'pages': '6', 'filename': '1911.pdf'}\n"
     ]
    },
    {
     "data": {
      "text/html": [
       "<div>\n",
       "<style scoped>\n",
       "    .dataframe tbody tr th:only-of-type {\n",
       "        vertical-align: middle;\n",
       "    }\n",
       "\n",
       "    .dataframe tbody tr th {\n",
       "        vertical-align: top;\n",
       "    }\n",
       "\n",
       "    .dataframe thead th {\n",
       "        text-align: right;\n",
       "    }\n",
       "</style>\n",
       "<table border=\"1\" class=\"dataframe\">\n",
       "  <thead>\n",
       "    <tr style=\"text-align: right;\">\n",
       "      <th></th>\n",
       "      <th>0</th>\n",
       "      <th>1</th>\n",
       "      <th>2</th>\n",
       "    </tr>\n",
       "  </thead>\n",
       "  <tbody>\n",
       "    <tr>\n",
       "      <th>0</th>\n",
       "      <td>Sports Wagering Handle</td>\n",
       "      <td>Monthly Handle</td>\n",
       "      <td>YTD Handle</td>\n",
       "    </tr>\n",
       "    <tr>\n",
       "      <th>1</th>\n",
       "      <td>On-site (Retail) Sports Wagering</td>\n",
       "      <td>75,890,898</td>\n",
       "      <td>678,523,405</td>\n",
       "    </tr>\n",
       "    <tr>\n",
       "      <th>2</th>\n",
       "      <td>Internet (On-Line) Sports Wagering</td>\n",
       "      <td>486,784,645</td>\n",
       "      <td>3,346,632,365</td>\n",
       "    </tr>\n",
       "    <tr>\n",
       "      <th>3</th>\n",
       "      <td>Total Sports Wagering Handle</td>\n",
       "      <td>562,675,543</td>\n",
       "      <td>4,025,155,770</td>\n",
       "    </tr>\n",
       "  </tbody>\n",
       "</table>\n",
       "</div>"
      ],
      "text/plain": [
       "                                    0               1              2\n",
       "0              Sports Wagering Handle  Monthly Handle     YTD Handle\n",
       "1    On-site (Retail) Sports Wagering      75,890,898    678,523,405\n",
       "2  Internet (On-Line) Sports Wagering     486,784,645  3,346,632,365\n",
       "3        Total Sports Wagering Handle     562,675,543  4,025,155,770"
      ]
     },
     "execution_count": 483,
     "metadata": {},
     "output_type": "execute_result"
    }
   ],
   "source": [
    "load_raw_dfs('1911.pdf', pages='6')[1]"
   ]
  },
  {
   "cell_type": "code",
   "execution_count": 484,
   "metadata": {
    "scrolled": true
   },
   "outputs": [
    {
     "name": "stdout",
     "output_type": "stream",
     "text": [
      "{'folder': 'C:\\\\\\\\Users\\\\ChunSangWoo\\\\Documents\\\\New Jersey\\\\Monthly Data', 'pages': '6', 'filename': '1911.pdf'}\n"
     ]
    },
    {
     "data": {
      "text/html": [
       "<div>\n",
       "<style scoped>\n",
       "    .dataframe tbody tr th:only-of-type {\n",
       "        vertical-align: middle;\n",
       "    }\n",
       "\n",
       "    .dataframe tbody tr th {\n",
       "        vertical-align: top;\n",
       "    }\n",
       "\n",
       "    .dataframe thead th {\n",
       "        text-align: right;\n",
       "    }\n",
       "</style>\n",
       "<table border=\"1\" class=\"dataframe\">\n",
       "  <thead>\n",
       "    <tr style=\"text-align: right;\">\n",
       "      <th></th>\n",
       "      <th>Retail Handle</th>\n",
       "      <th>Digital Handle</th>\n",
       "      <th>Total Handle</th>\n",
       "    </tr>\n",
       "  </thead>\n",
       "  <tbody>\n",
       "    <tr>\n",
       "      <th>1911.pdf</th>\n",
       "      <td>75890898.0</td>\n",
       "      <td>486784645.0</td>\n",
       "      <td>562675543.0</td>\n",
       "    </tr>\n",
       "  </tbody>\n",
       "</table>\n",
       "</div>"
      ],
      "text/plain": [
       "          Retail Handle  Digital Handle  Total Handle\n",
       "1911.pdf     75890898.0     486784645.0   562675543.0"
      ]
     },
     "execution_count": 484,
     "metadata": {},
     "output_type": "execute_result"
    }
   ],
   "source": [
    "load_clean_df('Sports Wagering Handle', '1911.pdf')"
   ]
  },
  {
   "cell_type": "code",
   "execution_count": 485,
   "metadata": {
    "scrolled": true
   },
   "outputs": [
    {
     "name": "stdout",
     "output_type": "stream",
     "text": [
      "{'folder': 'C:\\\\\\\\Users\\\\ChunSangWoo\\\\Documents\\\\New Jersey\\\\Monthly Data', 'pages': '2', 'filename': '1911.pdf'}\n"
     ]
    },
    {
     "data": {
      "text/html": [
       "<div>\n",
       "<style scoped>\n",
       "    .dataframe tbody tr th:only-of-type {\n",
       "        vertical-align: middle;\n",
       "    }\n",
       "\n",
       "    .dataframe tbody tr th {\n",
       "        vertical-align: top;\n",
       "    }\n",
       "\n",
       "    .dataframe thead th {\n",
       "        text-align: right;\n",
       "    }\n",
       "</style>\n",
       "<table border=\"1\" class=\"dataframe\">\n",
       "  <thead>\n",
       "    <tr style=\"text-align: right;\">\n",
       "      <th></th>\n",
       "      <th>Sports Wagering Revenue</th>\n",
       "    </tr>\n",
       "  </thead>\n",
       "  <tbody>\n",
       "    <tr>\n",
       "      <th>1911.pdf</th>\n",
       "      <td>32895546.0</td>\n",
       "    </tr>\n",
       "  </tbody>\n",
       "</table>\n",
       "</div>"
      ],
      "text/plain": [
       "          Sports Wagering Revenue\n",
       "1911.pdf               32895546.0"
      ]
     },
     "execution_count": 485,
     "metadata": {},
     "output_type": "execute_result"
    }
   ],
   "source": [
    "load_clean_df('Sports Wagering Revenue', '1911.pdf')"
   ]
  },
  {
   "cell_type": "code",
   "execution_count": 489,
   "metadata": {},
   "outputs": [
    {
     "data": {
      "text/html": [
       "<div>\n",
       "<style scoped>\n",
       "    .dataframe tbody tr th:only-of-type {\n",
       "        vertical-align: middle;\n",
       "    }\n",
       "\n",
       "    .dataframe tbody tr th {\n",
       "        vertical-align: top;\n",
       "    }\n",
       "\n",
       "    .dataframe thead th {\n",
       "        text-align: right;\n",
       "    }\n",
       "</style>\n",
       "<table border=\"1\" class=\"dataframe\">\n",
       "  <thead>\n",
       "    <tr style=\"text-align: right;\">\n",
       "      <th></th>\n",
       "      <th>Retail Handle</th>\n",
       "      <th>Digital Handle</th>\n",
       "      <th>Total Handle</th>\n",
       "      <th>Sports Wagering Revenue</th>\n",
       "    </tr>\n",
       "  </thead>\n",
       "  <tbody>\n",
       "    <tr>\n",
       "      <th>November2019.pdf</th>\n",
       "      <td>75890898.0</td>\n",
       "      <td>486784645.0</td>\n",
       "      <td>562675543.0</td>\n",
       "      <td>32895546.0</td>\n",
       "    </tr>\n",
       "  </tbody>\n",
       "</table>\n",
       "</div>"
      ],
      "text/plain": [
       "                  Retail Handle  Digital Handle  Total Handle  \\\n",
       "November2019.pdf     75890898.0     486784645.0   562675543.0   \n",
       "\n",
       "                  Sports Wagering Revenue  \n",
       "November2019.pdf               32895546.0  "
      ]
     },
     "execution_count": 489,
     "metadata": {},
     "output_type": "execute_result"
    }
   ],
   "source": [
    "monthly_df('Monthly SB Figures', '1911.pdf')"
   ]
  },
  {
   "cell_type": "code",
   "execution_count": 490,
   "metadata": {},
   "outputs": [],
   "source": [
    "import os\n",
    "\n",
    "for filename in FOLDER:\n",
    "    if filename.endswith(\".PDF\"): \n",
    "        continue\n",
    "    else:\n",
    "        continue"
   ]
  }
 ],
 "metadata": {
  "kernelspec": {
   "display_name": "Python 3",
   "language": "python",
   "name": "python3"
  },
  "language_info": {
   "codemirror_mode": {
    "name": "ipython",
    "version": 3
   },
   "file_extension": ".py",
   "mimetype": "text/x-python",
   "name": "python",
   "nbconvert_exporter": "python",
   "pygments_lexer": "ipython3",
   "version": "3.6.6"
  }
 },
 "nbformat": 4,
 "nbformat_minor": 2
}
